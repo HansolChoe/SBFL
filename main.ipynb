{
 "cells": [
  {
   "cell_type": "code",
   "execution_count": null,
   "source": [
    "import numpy as np\n",
    "import pandas as pd\n",
    "from sbfl.base import SBFL\n",
    "from scipy.stats import rankdata\n",
    "\n",
    "# TODO: add functionality to convert gcov result files to X, y\n",
    "# TODO: add functionality to convert Cobertura result files to X, y\n",
    "\n",
    "#   e1,e2,e3,e4,e5,e6\n",
    "X = np.array([\n",
    "    [1,1,0,0,1,1], # coverage of test t0\n",
    "    [1,1,0,0,1,1], # coverage of test t1\n",
    "    [0,1,1,0,1,0], # coverage of test t2\n",
    "    [1,0,0,1,0,0],\n",
    "    [0,1,0,1,1,0],\n",
    "], dtype=bool)\n",
    "\n",
    "y = np.array([1,1,0,0,0], dtype=bool)\n",
    "\n",
    "X, y"
   ],
   "outputs": [],
   "metadata": {}
  },
  {
   "cell_type": "code",
   "execution_count": null,
   "source": [
    "is_passing = y == 1\n",
    "\n",
    "sbfl = SBFL(formula='Ochiai')\n",
    "for t in np.where(y == 0)[0]:\n",
    "    print(\"failing\", t)\n",
    "    used = is_passing.copy()\n",
    "    used[t] = 1\n",
    "\n",
    "    # Calculate the suspiciousness scores\n",
    "    sbfl.fit(X[used], y[used])\n",
    "    print(sbfl.scores_)\n",
    "    print(rankdata(-sbfl.scores_, method='ordinal'))"
   ],
   "outputs": [],
   "metadata": {}
  },
  {
   "cell_type": "code",
   "execution_count": null,
   "source": [
    "names = ['file', 'method']\n",
    "elements = [\n",
    "    ('file1.py', 'method1'),\n",
    "    ('file2.py', 'method2'),\n",
    "    ('file2.py', 'method3'),\n",
    "    ('file2.py', 'method4'),\n",
    "    ('file2.py', 'method5'),\n",
    "    ('file2.py', 'method6'),\n",
    "]\n",
    "df = sbfl.to_frame(elements=elements, names=names)\n",
    "df"
   ],
   "outputs": [],
   "metadata": {}
  },
  {
   "cell_type": "code",
   "execution_count": null,
   "source": [
    "df.max(level='file')"
   ],
   "outputs": [],
   "metadata": {}
  }
 ],
 "metadata": {
  "kernelspec": {
   "name": "python3",
   "display_name": "Python 3.9.1 64-bit ('glados-env': pyenv)"
  },
  "language_info": {
   "codemirror_mode": {
    "name": "ipython",
    "version": 3
   },
   "file_extension": ".py",
   "mimetype": "text/x-python",
   "name": "python",
   "nbconvert_exporter": "python",
   "pygments_lexer": "ipython3",
   "version": "3.9.1"
  },
  "metadata": {
   "interpreter": {
    "hash": "b2bc7d33dda9c783ad817d5907cf76dfe558c40a43c8ad6a6758b3644e5b3f31"
   }
  },
  "orig_nbformat": 2,
  "interpreter": {
   "hash": "b2bc7d33dda9c783ad817d5907cf76dfe558c40a43c8ad6a6758b3644e5b3f31"
  }
 },
 "nbformat": 4,
 "nbformat_minor": 2
}