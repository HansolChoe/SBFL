{
 "cells": [
  {
   "cell_type": "code",
   "execution_count": null,
   "metadata": {},
   "outputs": [],
   "source": [
    "import numpy as np\n",
    "import pandas as pd\n",
    "from sbfl.base import SBFL\n",
    "from scipy.stats import rankdata\n",
    "\n",
    "#   e1,e2,e3,e4,e5,e6\n",
    "X = np.array([\n",
    "    [1,1,0,0,1,1], # coverage of test t0\n",
    "    [1,1,0,0,1,1], # coverage of test t1\n",
    "    [0,1,1,0,1,0], # coverage of test t2\n",
    "    [1,0,0,1,0,0],\n",
    "    [0,1,0,1,1,0],\n",
    "], dtype=bool)\n",
    "\n",
    "y = np.array([1,1,0,0,0], dtype=bool)\n",
    "\n",
    "X, y"
   ]
  },
  {
   "cell_type": "code",
   "execution_count": null,
   "metadata": {},
   "outputs": [],
   "source": [
    "sbfl = SBFL(formula='Ochiai')\n",
    "sbfl.fit_predict(X, y)"
   ]
  },
  {
   "cell_type": "code",
   "execution_count": null,
   "metadata": {},
   "outputs": [],
   "source": [
    "sbfl.ranks(method='max')"
   ]
  },
  {
   "cell_type": "code",
   "execution_count": null,
   "metadata": {},
   "outputs": [],
   "source": [
    "names = ['file', 'method']\n",
    "elements = [\n",
    "    ('file1.py', 'method1'),\n",
    "    ('file2.py', 'method2'),\n",
    "    ('file2.py', 'method3'),\n",
    "    ('file2.py', 'method4'),\n",
    "    ('file2.py', 'method5'),\n",
    "    ('file2.py', 'method6'),\n",
    "]\n",
    "df = sbfl.to_frame(elements=elements, names=names)\n",
    "df"
   ]
  },
  {
   "cell_type": "code",
   "execution_count": null,
   "metadata": {},
   "outputs": [],
   "source": [
    "df.max(level='file')"
   ]
  },
  {
   "cell_type": "markdown",
   "metadata": {},
   "source": [
    "# Read GCOV files"
   ]
  },
  {
   "cell_type": "code",
   "execution_count": null,
   "metadata": {},
   "outputs": [],
   "source": [
    "gcov_dir = {\n",
    "    'test100': 'resources/yara-buggy#3-100',\n",
    "    'test101': 'resources/yara-buggy#3-101',\n",
    "    'test102': 'resources/yara-buggy#3-102',\n",
    "    'test103': 'resources/yara-buggy#3-103',\n",
    "    'test104': 'resources/yara-buggy#3-104',\n",
    "}\n",
    "gcov_files = {test:[] for test in gcov_dir}\n",
    "for test in gcov_dir:\n",
    "    for path in os.listdir(gcov_dir[test]):\n",
    "        if path.endswith('.gcov'):\n",
    "            gcov_files[test].append(os.path.join(gcov_dir[test], path))\n",
    "    print(f\"{test}: {len(gcov_files[test])} gcov files are found.\")"
   ]
  },
  {
   "cell_type": "code",
   "execution_count": null,
   "metadata": {},
   "outputs": [],
   "source": [
    "from sbfl.utils import gcov_files_to_frame, get_sbfl_scores_from_frame\n",
    "\n",
    "cov_df = gcov_files_to_frame(gcov_files, only_covered=True)\n",
    "cov_df"
   ]
  },
  {
   "cell_type": "code",
   "execution_count": null,
   "metadata": {},
   "outputs": [],
   "source": [
    "get_sbfl_scores_from_frame(cov_df, failing_tests=['test102'])"
   ]
  },
  {
   "cell_type": "code",
   "execution_count": null,
   "metadata": {},
   "outputs": [],
   "source": []
  }
 ],
 "metadata": {
  "interpreter": {
   "hash": "b2bc7d33dda9c783ad817d5907cf76dfe558c40a43c8ad6a6758b3644e5b3f31"
  },
  "kernelspec": {
   "display_name": "Python 3.9.1 64-bit ('glados-env': pyenv)",
   "name": "python3"
  },
  "language_info": {
   "codemirror_mode": {
    "name": "ipython",
    "version": 3
   },
   "file_extension": ".py",
   "mimetype": "text/x-python",
   "name": "python",
   "nbconvert_exporter": "python",
   "pygments_lexer": "ipython3",
   "version": "3.9.1"
  },
  "metadata": {
   "interpreter": {
    "hash": "b2bc7d33dda9c783ad817d5907cf76dfe558c40a43c8ad6a6758b3644e5b3f31"
   }
  },
  "orig_nbformat": 2
 },
 "nbformat": 4,
 "nbformat_minor": 2
}
