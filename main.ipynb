{
 "cells": [
  {
   "cell_type": "code",
   "execution_count": 5,
   "metadata": {},
   "outputs": [
    {
     "data": {
      "text/plain": "(array([[ True, False,  True, False],\n        [False, False,  True,  True],\n        [ True,  True, False, False]]),\n array([ True, False,  True]))"
     },
     "execution_count": 5,
     "metadata": {},
     "output_type": "execute_result"
    }
   ],
   "source": [
    "import numpy as np\n",
    "import pandas as pd\n",
    "from sbfl.base import SBFL\n",
    "\n",
    "# TODO: add functionality to convert gcov result files to X, y\n",
    "# TODO: add functionality to convert Cobertura result files to X, y\n",
    "\n",
    "#   e1,e2,e3,e4\n",
    "X = np.array([\n",
    "    [1,0,1,0], # coverage of test t0\n",
    "    [0,0,1,1], # coverage of test t1\n",
    "    [1,1,0,0]  # coverage of test t2\n",
    "], dtype=bool)\n",
    "\n",
    "y = np.array([\n",
    "    1, # t0: PASS\n",
    "    0, # t1: FAIL\n",
    "    1  # t2: PASS\n",
    "], dtype=bool)\n",
    "\n",
    "X, y"
   ]
  },
  {
   "cell_type": "code",
   "execution_count": 4,
   "metadata": {},
   "outputs": [
    {
     "name": "stdout",
     "output_type": "stream",
     "text": [
      "[0.         0.         0.70710678 1.        ]\n"
     ]
    }
   ],
   "source": [
    "# Calculate the suspiciousness scores\n",
    "sbfl = SBFL(formula='Ochiai')\n",
    "sbfl.fit(X, y)\n",
    "print(sbfl.scores_)"
   ]
  },
  {
   "cell_type": "code",
   "execution_count": 5,
   "metadata": {},
   "outputs": [
    {
     "data": {
      "text/html": "<div>\n<style scoped>\n    .dataframe tbody tr th:only-of-type {\n        vertical-align: middle;\n    }\n\n    .dataframe tbody tr th {\n        vertical-align: top;\n    }\n\n    .dataframe thead th {\n        text-align: right;\n    }\n</style>\n<table border=\"1\" class=\"dataframe\">\n  <thead>\n    <tr style=\"text-align: right;\">\n      <th></th>\n      <th></th>\n      <th>score</th>\n    </tr>\n    <tr>\n      <th>file</th>\n      <th>method</th>\n      <th></th>\n    </tr>\n  </thead>\n  <tbody>\n    <tr>\n      <th>file1.py</th>\n      <th>method1</th>\n      <td>0.000000</td>\n    </tr>\n    <tr>\n      <th rowspan=\"3\" valign=\"top\">file2.py</th>\n      <th>method2</th>\n      <td>0.000000</td>\n    </tr>\n    <tr>\n      <th>method3</th>\n      <td>0.707107</td>\n    </tr>\n    <tr>\n      <th>method4</th>\n      <td>1.000000</td>\n    </tr>\n  </tbody>\n</table>\n</div>",
      "text/plain": "                     score\nfile     method           \nfile1.py method1  0.000000\nfile2.py method2  0.000000\n         method3  0.707107\n         method4  1.000000"
     },
     "execution_count": 5,
     "metadata": {},
     "output_type": "execute_result"
    }
   ],
   "source": [
    "names = ['file', 'method']\n",
    "elements = [\n",
    "    ('file1.py', 'method1'),\n",
    "    ('file2.py', 'method2'),\n",
    "    ('file2.py', 'method3'),\n",
    "    ('file2.py', 'method4')\n",
    "]\n",
    "df = sbfl.to_frame(elements=elements, names=names)\n",
    "df"
   ]
  },
  {
   "cell_type": "code",
   "execution_count": 6,
   "metadata": {},
   "outputs": [
    {
     "data": {
      "text/html": "<div>\n<style scoped>\n    .dataframe tbody tr th:only-of-type {\n        vertical-align: middle;\n    }\n\n    .dataframe tbody tr th {\n        vertical-align: top;\n    }\n\n    .dataframe thead th {\n        text-align: right;\n    }\n</style>\n<table border=\"1\" class=\"dataframe\">\n  <thead>\n    <tr style=\"text-align: right;\">\n      <th></th>\n      <th>score</th>\n    </tr>\n    <tr>\n      <th>file</th>\n      <th></th>\n    </tr>\n  </thead>\n  <tbody>\n    <tr>\n      <th>file1.py</th>\n      <td>0.0</td>\n    </tr>\n    <tr>\n      <th>file2.py</th>\n      <td>1.0</td>\n    </tr>\n  </tbody>\n</table>\n</div>",
      "text/plain": "          score\nfile           \nfile1.py    0.0\nfile2.py    1.0"
     },
     "execution_count": 6,
     "metadata": {},
     "output_type": "execute_result"
    }
   ],
   "source": [
    "df.max(level='file')"
   ]
  },
  {
   "cell_type": "markdown",
   "metadata": {},
   "source": [
    "# gcov 연동"
   ]
  },
  {
   "cell_type": "code",
   "execution_count": 6,
   "metadata": {},
   "outputs": [
    {
     "data": {
      "text/html": "<div>\n<style scoped>\n    .dataframe tbody tr th:only-of-type {\n        vertical-align: middle;\n    }\n\n    .dataframe tbody tr th {\n        vertical-align: top;\n    }\n\n    .dataframe thead th {\n        text-align: right;\n    }\n</style>\n<table border=\"1\" class=\"dataframe\">\n  <thead>\n    <tr style=\"text-align: right;\">\n      <th></th>\n      <th></th>\n      <th>t1</th>\n      <th>t3</th>\n      <th>t6</th>\n      <th>t7</th>\n      <th>t9</th>\n      <th>t15</th>\n      <th>t16</th>\n      <th>t17</th>\n      <th>t19</th>\n      <th>t20</th>\n      <th>...</th>\n      <th>t22</th>\n      <th>t24</th>\n      <th>t30</th>\n      <th>t35</th>\n      <th>t37</th>\n      <th>t38</th>\n      <th>t39</th>\n      <th>t40</th>\n      <th>t41</th>\n      <th>t42</th>\n    </tr>\n    <tr>\n      <th>source</th>\n      <th>line</th>\n      <th></th>\n      <th></th>\n      <th></th>\n      <th></th>\n      <th></th>\n      <th></th>\n      <th></th>\n      <th></th>\n      <th></th>\n      <th></th>\n      <th></th>\n      <th></th>\n      <th></th>\n      <th></th>\n      <th></th>\n      <th></th>\n      <th></th>\n      <th></th>\n      <th></th>\n      <th></th>\n      <th></th>\n    </tr>\n  </thead>\n  <tbody>\n    <tr>\n      <th rowspan=\"11\" valign=\"top\">flex.c</th>\n      <th>122</th>\n      <td>6</td>\n      <td>1</td>\n      <td>2</td>\n      <td>1</td>\n      <td>1</td>\n      <td>4</td>\n      <td>6</td>\n      <td>2</td>\n      <td>3</td>\n      <td>2</td>\n      <td>...</td>\n      <td>1</td>\n      <td>1</td>\n      <td>1</td>\n      <td>2</td>\n      <td>1</td>\n      <td>1</td>\n      <td>1</td>\n      <td>3</td>\n      <td>1</td>\n      <td>1</td>\n    </tr>\n    <tr>\n      <th>130</th>\n      <td>6</td>\n      <td>1</td>\n      <td>2</td>\n      <td>1</td>\n      <td>1</td>\n      <td>4</td>\n      <td>6</td>\n      <td>2</td>\n      <td>3</td>\n      <td>2</td>\n      <td>...</td>\n      <td>1</td>\n      <td>1</td>\n      <td>1</td>\n      <td>2</td>\n      <td>1</td>\n      <td>1</td>\n      <td>1</td>\n      <td>3</td>\n      <td>1</td>\n      <td>1</td>\n    </tr>\n    <tr>\n      <th>131</th>\n      <td>6</td>\n      <td>1</td>\n      <td>2</td>\n      <td>1</td>\n      <td>1</td>\n      <td>4</td>\n      <td>6</td>\n      <td>2</td>\n      <td>3</td>\n      <td>2</td>\n      <td>...</td>\n      <td>1</td>\n      <td>1</td>\n      <td>1</td>\n      <td>2</td>\n      <td>1</td>\n      <td>1</td>\n      <td>1</td>\n      <td>3</td>\n      <td>1</td>\n      <td>1</td>\n    </tr>\n    <tr>\n      <th>132</th>\n      <td>6</td>\n      <td>1</td>\n      <td>2</td>\n      <td>1</td>\n      <td>1</td>\n      <td>4</td>\n      <td>6</td>\n      <td>2</td>\n      <td>3</td>\n      <td>2</td>\n      <td>...</td>\n      <td>1</td>\n      <td>1</td>\n      <td>1</td>\n      <td>2</td>\n      <td>1</td>\n      <td>1</td>\n      <td>1</td>\n      <td>3</td>\n      <td>1</td>\n      <td>1</td>\n    </tr>\n    <tr>\n      <th>137</th>\n      <td>6</td>\n      <td>1</td>\n      <td>2</td>\n      <td>1</td>\n      <td>1</td>\n      <td>4</td>\n      <td>6</td>\n      <td>2</td>\n      <td>3</td>\n      <td>2</td>\n      <td>...</td>\n      <td>1</td>\n      <td>1</td>\n      <td>1</td>\n      <td>2</td>\n      <td>1</td>\n      <td>1</td>\n      <td>1</td>\n      <td>3</td>\n      <td>1</td>\n      <td>1</td>\n    </tr>\n    <tr>\n      <th>...</th>\n      <td>...</td>\n      <td>...</td>\n      <td>...</td>\n      <td>...</td>\n      <td>...</td>\n      <td>...</td>\n      <td>...</td>\n      <td>...</td>\n      <td>...</td>\n      <td>...</td>\n      <td>...</td>\n      <td>...</td>\n      <td>...</td>\n      <td>...</td>\n      <td>...</td>\n      <td>...</td>\n      <td>...</td>\n      <td>...</td>\n      <td>...</td>\n      <td>...</td>\n      <td>...</td>\n    </tr>\n    <tr>\n      <th>12412</th>\n      <td>59</td>\n      <td>0</td>\n      <td>0</td>\n      <td>0</td>\n      <td>56</td>\n      <td>0</td>\n      <td>0</td>\n      <td>0</td>\n      <td>0</td>\n      <td>0</td>\n      <td>...</td>\n      <td>0</td>\n      <td>0</td>\n      <td>0</td>\n      <td>2</td>\n      <td>0</td>\n      <td>0</td>\n      <td>0</td>\n      <td>0</td>\n      <td>0</td>\n      <td>0</td>\n    </tr>\n    <tr>\n      <th>12416</th>\n      <td>59</td>\n      <td>0</td>\n      <td>0</td>\n      <td>0</td>\n      <td>56</td>\n      <td>0</td>\n      <td>0</td>\n      <td>0</td>\n      <td>0</td>\n      <td>0</td>\n      <td>...</td>\n      <td>0</td>\n      <td>0</td>\n      <td>0</td>\n      <td>2</td>\n      <td>0</td>\n      <td>0</td>\n      <td>0</td>\n      <td>0</td>\n      <td>0</td>\n      <td>0</td>\n    </tr>\n    <tr>\n      <th>12419</th>\n      <td>8</td>\n      <td>2</td>\n      <td>2</td>\n      <td>2</td>\n      <td>2</td>\n      <td>4</td>\n      <td>2</td>\n      <td>2</td>\n      <td>2</td>\n      <td>2</td>\n      <td>...</td>\n      <td>2</td>\n      <td>2</td>\n      <td>2</td>\n      <td>2</td>\n      <td>2</td>\n      <td>2</td>\n      <td>2</td>\n      <td>2</td>\n      <td>2</td>\n      <td>2</td>\n    </tr>\n    <tr>\n      <th>12422</th>\n      <td>8</td>\n      <td>2</td>\n      <td>2</td>\n      <td>2</td>\n      <td>2</td>\n      <td>4</td>\n      <td>2</td>\n      <td>2</td>\n      <td>2</td>\n      <td>2</td>\n      <td>...</td>\n      <td>2</td>\n      <td>2</td>\n      <td>2</td>\n      <td>2</td>\n      <td>2</td>\n      <td>2</td>\n      <td>2</td>\n      <td>2</td>\n      <td>2</td>\n      <td>2</td>\n    </tr>\n    <tr>\n      <th>12423</th>\n      <td>8</td>\n      <td>2</td>\n      <td>2</td>\n      <td>2</td>\n      <td>2</td>\n      <td>4</td>\n      <td>2</td>\n      <td>2</td>\n      <td>2</td>\n      <td>2</td>\n      <td>...</td>\n      <td>2</td>\n      <td>2</td>\n      <td>2</td>\n      <td>2</td>\n      <td>2</td>\n      <td>2</td>\n      <td>2</td>\n      <td>2</td>\n      <td>2</td>\n      <td>2</td>\n    </tr>\n  </tbody>\n</table>\n<p>2730 rows × 21 columns</p>\n</div>",
      "text/plain": "              t1  t3  t6  t7  t9  t15  t16  t17  t19  t20  ...  t22  t24  t30  \\\nsource line                                                ...                  \nflex.c 122     6   1   2   1   1    4    6    2    3    2  ...    1    1    1   \n       130     6   1   2   1   1    4    6    2    3    2  ...    1    1    1   \n       131     6   1   2   1   1    4    6    2    3    2  ...    1    1    1   \n       132     6   1   2   1   1    4    6    2    3    2  ...    1    1    1   \n       137     6   1   2   1   1    4    6    2    3    2  ...    1    1    1   \n...           ..  ..  ..  ..  ..  ...  ...  ...  ...  ...  ...  ...  ...  ...   \n       12412  59   0   0   0  56    0    0    0    0    0  ...    0    0    0   \n       12416  59   0   0   0  56    0    0    0    0    0  ...    0    0    0   \n       12419   8   2   2   2   2    4    2    2    2    2  ...    2    2    2   \n       12422   8   2   2   2   2    4    2    2    2    2  ...    2    2    2   \n       12423   8   2   2   2   2    4    2    2    2    2  ...    2    2    2   \n\n              t35  t37  t38  t39  t40  t41  t42  \nsource line                                      \nflex.c 122      2    1    1    1    3    1    1  \n       130      2    1    1    1    3    1    1  \n       131      2    1    1    1    3    1    1  \n       132      2    1    1    1    3    1    1  \n       137      2    1    1    1    3    1    1  \n...           ...  ...  ...  ...  ...  ...  ...  \n       12412    2    0    0    0    0    0    0  \n       12416    2    0    0    0    0    0    0  \n       12419    2    2    2    2    2    2    2  \n       12422    2    2    2    2    2    2    2  \n       12423    2    2    2    2    2    2    2  \n\n[2730 rows x 21 columns]"
     },
     "execution_count": 6,
     "metadata": {},
     "output_type": "execute_result"
    }
   ],
   "source": [
    "from sbfl.utils import gcov_files_to_frame, get_sbfl_scores_from_frame\n",
    "\n",
    "coverage_files = {\n",
    "    't1': ['sample/f1_f5/t1.gcov'],\n",
    "    't3': ['sample/f1_f5/t3.gcov'],\n",
    "    't6': ['sample/f1_f5/t6.gcov'],\n",
    "    't7': ['sample/f1_f5/t7.gcov'],\n",
    "    't9': ['sample/f1_f5/t9.gcov'],\n",
    "    't15': ['sample/f1_f5/t15.gcov'],\n",
    "    't16': ['sample/f1_f5/t16.gcov'],\n",
    "    't17': ['sample/f1_f5/t17.gcov'],\n",
    "    't19': ['sample/f1_f5/t19.gcov'],\n",
    "    't20': ['sample/f1_f5/t20.gcov'],\n",
    "    't21': ['sample/f1_f5/t21.gcov'],\n",
    "    't22': ['sample/f1_f5/t22.gcov'],\n",
    "    't24': ['sample/f1_f5/t24.gcov'],\n",
    "    't30': ['sample/f1_f5/t30.gcov'],\n",
    "    't35': ['sample/f1_f5/t35.gcov'],\n",
    "    't37': ['sample/f1_f5/t37.gcov'],\n",
    "    't38': ['sample/f1_f5/t38.gcov'],\n",
    "    't39': ['sample/f1_f5/t39.gcov'],\n",
    "    't40': ['sample/f1_f5/t40.gcov'],\n",
    "    't41': ['sample/f1_f5/t41.gcov'],\n",
    "    't42': ['sample/f1_f5/t42.gcov'],\n",
    "}\n",
    "\n",
    "cov_df = gcov_files_to_frame(coverage_files, only_covered=True)\n",
    "cov_df"
   ]
  },
  {
   "cell_type": "code",
   "execution_count": 7,
   "metadata": {},
   "outputs": [
    {
     "data": {
      "text/html": "<div>\n<style scoped>\n    .dataframe tbody tr th:only-of-type {\n        vertical-align: middle;\n    }\n\n    .dataframe tbody tr th {\n        vertical-align: top;\n    }\n\n    .dataframe thead th {\n        text-align: right;\n    }\n</style>\n<table border=\"1\" class=\"dataframe\">\n  <thead>\n    <tr style=\"text-align: right;\">\n      <th></th>\n      <th></th>\n      <th>score</th>\n    </tr>\n    <tr>\n      <th>source</th>\n      <th>line</th>\n      <th></th>\n    </tr>\n  </thead>\n  <tbody>\n    <tr>\n      <th rowspan=\"11\" valign=\"top\">flex.c</th>\n      <th>7229</th>\n      <td>0.866025</td>\n    </tr>\n    <tr>\n      <th>3153</th>\n      <td>0.866025</td>\n    </tr>\n    <tr>\n      <th>7262</th>\n      <td>0.866025</td>\n    </tr>\n    <tr>\n      <th>3147</th>\n      <td>0.866025</td>\n    </tr>\n    <tr>\n      <th>915</th>\n      <td>0.866025</td>\n    </tr>\n    <tr>\n      <th>...</th>\n      <td>...</td>\n    </tr>\n    <tr>\n      <th>9113</th>\n      <td>0.000000</td>\n    </tr>\n    <tr>\n      <th>9114</th>\n      <td>0.000000</td>\n    </tr>\n    <tr>\n      <th>9117</th>\n      <td>0.000000</td>\n    </tr>\n    <tr>\n      <th>9129</th>\n      <td>0.000000</td>\n    </tr>\n    <tr>\n      <th>4043</th>\n      <td>0.000000</td>\n    </tr>\n  </tbody>\n</table>\n<p>2730 rows × 1 columns</p>\n</div>",
      "text/plain": "                score\nsource line          \nflex.c 7229  0.866025\n       3153  0.866025\n       7262  0.866025\n       3147  0.866025\n       915   0.866025\n...               ...\n       9113  0.000000\n       9114  0.000000\n       9117  0.000000\n       9129  0.000000\n       4043  0.000000\n\n[2730 rows x 1 columns]"
     },
     "execution_count": 7,
     "metadata": {},
     "output_type": "execute_result"
    }
   ],
   "source": [
    "failing_tests = [\n",
    "    't1', 't3', 't6', 't7', 't9', 't15', 't17', 't20', 't21',\n",
    "    't22', 't24', 't30', 't37', 't38', 't40', 't41', 't42'\n",
    "]\n",
    "score_df = get_sbfl_scores_from_frame(cov_df, failing_tests)\n",
    "score_df.sort_values(by='score', ascending=False)"
   ]
  }
 ],
 "metadata": {
  "kernelspec": {
   "display_name": "Python 3.9.1 64-bit ('glados-env': pyenv)",
   "name": "python391jvsc74a57bd0b2bc7d33dda9c783ad817d5907cf76dfe558c40a43c8ad6a6758b3644e5b3f31"
  },
  "language_info": {
   "codemirror_mode": {
    "name": "ipython",
    "version": 3
   },
   "file_extension": ".py",
   "mimetype": "text/x-python",
   "name": "python",
   "nbconvert_exporter": "python",
   "pygments_lexer": "ipython3",
   "version": "3.9.1"
  },
  "metadata": {
   "interpreter": {
    "hash": "b2bc7d33dda9c783ad817d5907cf76dfe558c40a43c8ad6a6758b3644e5b3f31"
   }
  },
  "orig_nbformat": 2
 },
 "nbformat": 4,
 "nbformat_minor": 2
}